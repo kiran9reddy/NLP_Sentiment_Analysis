{
 "cells": [
  {
   "cell_type": "markdown",
   "id": "1de49f2f",
   "metadata": {},
   "source": [
    "# Sentiment Analysis with DistilBERT\n",
    "Fine-tune DistilBERT on the IMDB dataset for binary sentiment classification (positive/negative).\n"
   ]
  },
  {
   "cell_type": "markdown",
   "id": "a0a20e80",
   "metadata": {},
   "source": [
    "Install & Import Libraries"
   ]
  },
  {
   "cell_type": "code",
   "execution_count": null,
   "id": "ba22c0ad",
   "metadata": {},
   "outputs": [],
   "source": [
    "!pip install transformers datasets scikit-learn torch matplotlib seaborn -q\n",
    "\n",
    "import torch\n",
    "from transformers import AutoTokenizer, AutoModelForSequenceClassification\n",
    "from datasets import load_dataset\n",
    "import pandas as pd\n",
    "import numpy as np\n",
    "import matplotlib.pyplot as plt\n",
    "import seaborn as sns\n",
    "from sklearn.metrics import accuracy_score, f1_score, confusion_matrix\n"
   ]
  },
  {
   "cell_type": "markdown",
   "id": "f024b366",
   "metadata": {},
   "source": [
    "Load Dataset & Quick EDA"
   ]
  },
  {
   "cell_type": "code",
   "execution_count": null,
   "id": "e7ef5b04",
   "metadata": {},
   "outputs": [],
   "source": [
    "dataset = load_dataset(\"imdb\")\n",
    "print(dataset)\n",
    "\n",
    "# Check class distribution\n",
    "sns.countplot(x=\"label\", data=pd.DataFrame(dataset[\"train\"]))\n",
    "plt.title(\"IMDB Train Dataset Class Distribution\")\n",
    "plt.show()\n"
   ]
  },
  {
   "cell_type": "markdown",
   "id": "0c97a4a5",
   "metadata": {},
   "source": [
    "Tokenization Example"
   ]
  },
  {
   "cell_type": "code",
   "execution_count": null,
   "id": "6909ceed",
   "metadata": {},
   "outputs": [],
   "source": [
    "tokenizer = AutoTokenizer.from_pretrained(\"distilbert-base-uncased\")\n",
    "sample_text = \"This movie was amazing!\"\n",
    "tokens = tokenizer(sample_text)\n",
    "print(tokens)\n"
   ]
  },
  {
   "cell_type": "markdown",
   "id": "7cfe0618",
   "metadata": {},
   "source": [
    "Load Trained Model"
   ]
  },
  {
   "cell_type": "code",
   "execution_count": null,
   "id": "76887738",
   "metadata": {},
   "outputs": [],
   "source": [
    "model = AutoModelForSequenceClassification.from_pretrained(\"../src/model\")  # path to saved model\n",
    "model.eval()\n"
   ]
  },
  {
   "cell_type": "markdown",
   "id": "397d971d",
   "metadata": {},
   "source": [
    "Inference Demo"
   ]
  },
  {
   "cell_type": "code",
   "execution_count": null,
   "id": "bb5b3be1",
   "metadata": {},
   "outputs": [],
   "source": [
    "from torch.nn.functional import softmax\n",
    "\n",
    "def predict(text):\n",
    "    inputs = tokenizer(text, return_tensors=\"pt\", truncation=True, padding=True)\n",
    "    outputs = model(**inputs)\n",
    "    probs = softmax(outputs.logits, dim=-1)\n",
    "    pred_class = torch.argmax(probs, dim=-1).item()\n",
    "    return \"positive\" if pred_class == 1 else \"negative\", probs[0][pred_class].item()\n",
    "\n",
    "# Test some examples\n",
    "for review in [\"I loved this movie!\", \"It was terrible and boring\"]:\n",
    "    label, confidence = predict(review)\n",
    "    print(f\"Review: {review}\\nPredicted: {label} (Confidence: {confidence:.2f})\\n\")\n"
   ]
  },
  {
   "cell_type": "markdown",
   "id": "f4f123d3",
   "metadata": {},
   "source": [
    "Evaluation on Test Subset"
   ]
  },
  {
   "cell_type": "code",
   "execution_count": null,
   "id": "341073fc",
   "metadata": {},
   "outputs": [],
   "source": [
    "test_subset = dataset[\"test\"].shuffle(seed=42).select(range(500))\n",
    "all_preds, all_labels = [], []\n",
    "\n",
    "for item in test_subset:\n",
    "    label, _ = predict(item[\"text\"])\n",
    "    all_preds.append(1 if label==\"positive\" else 0)\n",
    "    all_labels.append(item[\"label\"])\n",
    "\n",
    "acc = accuracy_score(all_labels, all_preds)\n",
    "f1 = f1_score(all_labels, all_preds)\n",
    "print(f\"Accuracy: {acc:.4f}, F1 Score: {f1:.4f}\")\n"
   ]
  },
  {
   "cell_type": "markdown",
   "id": "6ca95b7d",
   "metadata": {},
   "source": [
    "Confusion Matrix Visualization"
   ]
  },
  {
   "cell_type": "code",
   "execution_count": null,
   "id": "186eaf14",
   "metadata": {},
   "outputs": [
    {
     "ename": "",
     "evalue": "",
     "output_type": "error",
     "traceback": [
      "\u001b[1;31mRunning cells with 'Python 3.11.9' requires the ipykernel package.\n",
      "\u001b[1;31m<a href='command:jupyter.createPythonEnvAndSelectController'>Create a Python Environment</a> with the required packages.\n",
      "\u001b[1;31mOr install 'ipykernel' using the command: 'c:/Users/HP/AppData/Local/Microsoft/WindowsApps/python3.11.exe -m pip install ipykernel -U --user --force-reinstall'"
     ]
    }
   ],
   "source": [
    "cm = confusion_matrix(all_labels, all_preds)\n",
    "sns.heatmap(cm, annot=True, fmt=\"d\", cmap=\"Blues\")\n",
    "plt.xlabel(\"Predicted\")\n",
    "plt.ylabel(\"Actual\")\n",
    "plt.title(\"Confusion Matrix\")\n",
    "plt.show()\n"
   ]
  }
 ],
 "metadata": {
  "kernelspec": {
   "display_name": "Python 3",
   "language": "python",
   "name": "python3"
  },
  "language_info": {
   "name": "python",
   "version": "3.11.9"
  }
 },
 "nbformat": 4,
 "nbformat_minor": 5
}
